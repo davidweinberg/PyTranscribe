{
 "cells": [
  {
   "cell_type": "code",
   "execution_count": null,
   "metadata": {},
   "outputs": [],
   "source": [
    "#| hide\n",
    "from PyTranscribe.core import *"
   ]
  },
  {
   "cell_type": "markdown",
   "metadata": {},
   "source": [
    "# PyTranscribe\n",
    "\n",
    "> Library to convert AWS Transcribe output to Dictation format"
   ]
  },
  {
   "cell_type": "markdown",
   "metadata": {},
   "source": [
    "## Starting Notebook Server"
   ]
  },
  {
   "cell_type": "markdown",
   "metadata": {},
   "source": [
    "```sh\n",
    "poetry install\n",
    "poetry run jupter-lab\n",
    "```"
   ]
  },
  {
   "cell_type": "markdown",
   "metadata": {},
   "source": [
    "## Running command-line tool"
   ]
  },
  {
   "cell_type": "markdown",
   "metadata": {},
   "source": [
    "```sh\n",
    "❯ poetry run python transcribe.py\n",
    "usage: transcribe.py [-h] speakers input output\n",
    "\n",
    "Example:\n",
    "❯ poetry run python transcribe.py 2 nbs/data/transcribe_example.json out.txt\n",
    "Reading json data...\n",
    "Converting json to conversational text...\n",
    "Saving text to file (out.txt)...\n",
    "success.\n",
    "```"
   ]
  },
  {
   "cell_type": "code",
   "execution_count": null,
   "metadata": {},
   "outputs": [],
   "source": []
  }
 ],
 "metadata": {
  "kernelspec": {
   "display_name": "python3",
   "language": "python",
   "name": "python3"
  }
 },
 "nbformat": 4,
 "nbformat_minor": 4
}
